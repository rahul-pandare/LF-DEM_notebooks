{
 "cells": [
  {
   "cell_type": "code",
   "execution_count": 3,
   "id": "bea1c07c",
   "metadata": {},
   "outputs": [],
   "source": [
    "import numpy as np\n",
    "import matplotlib.pyplot as plt\n",
    "import os\n",
    "import glob\n",
    "import random"
   ]
  },
  {
   "cell_type": "code",
   "execution_count": 4,
   "id": "53721767",
   "metadata": {},
   "outputs": [
    {
     "name": "stdout",
     "output_type": "stream",
     "text": [
      "phi = 0.70, ar = 1.4, kn = 4712.39: \u001b[1;31m0.734\u001b[0m %\n",
      "phi = 0.70, ar = 4.0, kn = 4712.39: \u001b[1;31m1.116\u001b[0m %\n",
      "phi = 0.73, ar = 1.4, kn = 4712.39: \u001b[1;31m0.735\u001b[0m %\n",
      "phi = 0.74, ar = 4.0, kn = 4712.39: \u001b[1;31m1.128\u001b[0m %\n",
      "phi = 0.76, ar = 1.4, kn = 4712.39: \u001b[1;31m0.875\u001b[0m %\n",
      "phi = 0.79, ar = 4.0, kn = 4712.39: \u001b[1;31m1.209\u001b[0m %\n"
     ]
    }
   ],
   "source": [
    "topDir = '/Users/rahul/Documents/Simulations/test_kn'\n",
    "phi    = [0.70, 0.73, 0.74, 0.76, 0.79]\n",
    "ar     = [1.4, 4.0]\n",
    "runs   = 1\n",
    "off    = 100\n",
    "#tests  = ['kn1', 'kn2', 'kn3','kn4']\n",
    "#kn     = [1884.95, 188.49, 4712.39, 3769.91]\n",
    "\n",
    "tests  = ['kn3',]\n",
    "kn     = [4712.39]\n",
    "\n",
    "for t in range(len(tests)):\n",
    "    for i, phii in enumerate(phi):\n",
    "        for j, arj in enumerate(ar):\n",
    "            phir   = '{:.3f}'.format(phii) if len(str(phii).split('.')[1])>2 else '{:.2f}'.format(phii)\n",
    "            Dir = f'{topDir}/{tests[t]}/NP_1000/phi_{phir}/ar_{ar[j]}'\n",
    "            if not os.path.exists(Dir):\n",
    "                    continue\n",
    "            mingap = []\n",
    "            for l in range(runs):\n",
    "                workDir = f'{topDir}/{tests[t]}/NP_1000/phi_{phir}/ar_{ar[j]}/Vr_0.5/run_{l+1}'\n",
    "                dataFile    = glob.glob(f'{workDir}/data_*.dat')[0]\n",
    "                data        = np.loadtxt(dataFile)\n",
    "                mingap_data = data[off:, 13]\n",
    "                mingap.append(np.mean(mingap_data))\n",
    "            bold_red = \"\\033[1;31m\"\n",
    "            reset    = \"\\033[0m\"\n",
    "            overlap  = -np.mean(mingap) * 100\n",
    "            print(f'phi = {phir}, ar = {arj}, kn = {kn[t]}: {bold_red}{np.round(overlap,3)}{reset} %')"
   ]
  },
  {
   "cell_type": "code",
   "execution_count": null,
   "id": "3d8ff88b",
   "metadata": {},
   "outputs": [],
   "source": []
  },
  {
   "cell_type": "code",
   "execution_count": null,
   "id": "78a9cf22",
   "metadata": {},
   "outputs": [],
   "source": []
  },
  {
   "cell_type": "code",
   "execution_count": null,
   "id": "872538db",
   "metadata": {},
   "outputs": [],
   "source": []
  }
 ],
 "metadata": {
  "kernelspec": {
   "display_name": "Python 3 (ipykernel)",
   "language": "python",
   "name": "python3"
  },
  "language_info": {
   "codemirror_mode": {
    "name": "ipython",
    "version": 3
   },
   "file_extension": ".py",
   "mimetype": "text/x-python",
   "name": "python",
   "nbconvert_exporter": "python",
   "pygments_lexer": "ipython3",
   "version": "3.11.5"
  }
 },
 "nbformat": 4,
 "nbformat_minor": 5
}
