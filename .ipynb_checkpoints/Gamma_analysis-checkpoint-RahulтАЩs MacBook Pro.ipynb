{
 "cells": [
  {
   "cell_type": "markdown",
   "id": "11167f6f",
   "metadata": {},
   "source": [
    "# Analysis of simulation data\n",
    "#### this workbook contains tools for analysing cumulative shear strain of both completed simulations or active simulations"
   ]
  },
  {
   "cell_type": "markdown",
   "id": "78ab2152",
   "metadata": {},
   "source": [
    "### Reading gamma\n",
    "##### from SSD "
   ]
  },
  {
   "cell_type": "code",
   "execution_count": null,
   "id": "ac15a97e",
   "metadata": {
    "scrolled": false
   },
   "outputs": [],
   "source": [
    "import os\n",
    "import matplotlib\n",
    "import numpy             as     np\n",
    "import pandas            as     pd\n",
    "import scipy.optimize    as     opt\n",
    "import matplotlib.pyplot as     plt\n",
    "from   fractions         import Fraction\n",
    "import warnings\n",
    "warnings.filterwarnings('ignore', category=DeprecationWarning, module='mkl')\n",
    "\n",
    "TopDir      = \"/Volumes/Extreme SSD/high_bidispersity\"   \n",
    "\n",
    "print('SSD not mounted') if not os.path.exists(TopDir) else None\n",
    "\n",
    "# Parameters\n",
    "NP          = np.array([500, 1000, 2000, 4000])\n",
    "\n",
    "phi         = np.array([0.70,0.72,0.74])\n",
    "\n",
    "ar          = np.array([1.0, 1.4, 1.8, 2.0, 4.0])\n",
    "    \n",
    "run         = {500:8, 1000:4, 2000:2, 4000:1}\n",
    "\n",
    "tstrain = {\n",
    "    '4000 0.70': '50', '4000 0.71': '50',\n",
    "    '4000 0.72': '30', '4000 0.73': '30',\n",
    "    '4000 0.74': '15', '4000 0.75': '10',\n",
    "    \n",
    "    '2000 0.70': '50', '2000 0.71': '50',\n",
    "    '2000 0.72': '50', '2000 0.73': '50',\n",
    "    '2000 0.74': '50', '2000 0.75': '15',\n",
    "    \n",
    "    '1000 0.70': '50', '1000 0.71': '50',\n",
    "    '1000 0.72': '50', '1000 0.73': '50',\n",
    "    '1000 0.74': '35', '1000 0.75': '20',\n",
    "    \n",
    "    '500 0.70': '50', '500 0.71': '50',\n",
    "    '500 0.72': '50', '500 0.73': '50',\n",
    "    '500 0.74': '50', '500 0.75': '30'\n",
    "}\n",
    "\n",
    "# Initializing arrays, dictionaries and list\n",
    "data = {};\n",
    "npl=[];phil=[];arl=[];runl=[];\n",
    "time=[];\n",
    "\n",
    "# Parsing all directories\n",
    "for i in range(len(NP)):\n",
    "        for j in range(len(phi)):\n",
    "            for k in range(len(ar)):          \n",
    "                for l in range (run[NP[i]]):\n",
    "                    with open(TopDir+'/NP_'+str(NP[i])+'/phi_'+\"{:.2f}\".format(phi[j])+'/ar_'+str(ar[k])+'/Vr_0.5/run_'+str(l+1)+'/data_random_seed_params_stress100r_shear.dat','r') as file:\n",
    "                        lines=file.readlines()\n",
    "                        b=lines[-1].strip()\n",
    "                        params.append('/NP_'+str(NP[i])+'/phi_'+\"{:.2f}\".format(phi[j])+'/ar_'+str(ar[k])+'/Vr_0.5/run_'+str(l+1)+' ')\n",
    "                        time.append(float(b.split()[1]))\n",
    "                        npl.append(NP[i]); phil.append(float(\"{:.2f}\".format(phi[j]))); arl.append(ar[k]); runl.append(l+1);\n",
    "                        \n",
    "data={'NP':npl,'Phi':phil,'ar':arl,'#run':runl,'Time':time}\n",
    "df0=pd.DataFrame(data)\n",
    "print('\\n Reading done\\n') if os.path.exists(TopDir) else None\n",
    "\n",
    "#pd.DataFrame(data).to_csv('output.txt',index=False) #to save output as a csv file"
   ]
  },
  {
   "cell_type": "code",
   "execution_count": null,
   "id": "a11aeeba",
   "metadata": {},
   "outputs": [],
   "source": [
    "data[(data['NP']==1000) & (data['Phi']==0.74) & (data['ar']==1.0) & (data['#run']==1)]['Time'].iloc[0]"
   ]
  },
  {
   "cell_type": "markdown",
   "id": "79cfc0da",
   "metadata": {},
   "source": [
    "### To check if all runs completed properly"
   ]
  },
  {
   "cell_type": "code",
   "execution_count": null,
   "id": "e2aa3099",
   "metadata": {},
   "outputs": [],
   "source": [
    "#check for under runs and over runs\n",
    "c=s=0\n",
    "for i in range(len(time)):\n",
    "    if time[i] < float(tstrain['{} {:.2f}'.format(npl[i], phil[i])]):\n",
    "        print(f'incomplete run: NP={npl[i]}, phi={phil[i]}, ar={arl[i]}, #run={runl[i]}')\n",
    "        c+=1\n",
    "    if time[i] > float(tstrain['{} {:.2f}'.format(npl[i], phil[i])]):\n",
    "        print(f'over-run: NP={npl[i]}, phi={phil[i]}, ar={arl[i]}, #run={runl[i]}')\n",
    "        s+=1\n",
    "if c==0 or s==0:\n",
    "    print('all runs completed properly')"
   ]
  },
  {
   "cell_type": "markdown",
   "id": "52406f9d",
   "metadata": {},
   "source": [
    "### Checking for high viscosity and negative shear rate"
   ]
  },
  {
   "cell_type": "code",
   "execution_count": 30,
   "id": "8057359c",
   "metadata": {
    "scrolled": true
   },
   "outputs": [
    {
     "name": "stdout",
     "output_type": "stream",
     "text": [
      "\n",
      " no anomaly in viscosity or shear rate is found\n"
     ]
    }
   ],
   "source": [
    "# make sure Topdir is defined previously\n",
    "\n",
    "TopDir=\"/Users/rahul/Library/CloudStorage/OneDrive-CUNY/CUNY/Research/Bidisperse_project/high_bidispersity\"\n",
    "\n",
    "# Parameters\n",
    "NP          = np.array([1000])\n",
    "\n",
    "phi         = np.array([0.70,0.71,0.72,0.73,0.74,0.75])\n",
    "\n",
    "ar          = np.array([1.4, 1.8, 2.0, 4.0])\n",
    "    \n",
    "run         = {500:8, 1000:4, 2000:2, 4000:1}\n",
    "\n",
    "s=0\n",
    "for i in range(len(NP)):\n",
    "            for j in range(len(phi)):\n",
    "                for k in range(len(ar)):          \n",
    "                    for l in range (run[NP[i]]):\n",
    "                        with open(TopDir+'/NP_'+str(NP[i])+'/phi_'+\"{:.2f}\".format(phi[j])+'/ar_'+str(ar[k])+'/Vr_0.5/run_'+str(l+1)+'/data_random_seed_params_stress100r_shear.dat','r') as file:\n",
    "                            dff = pd.read_csv(file, delimiter=' ', header=None,skiprows=37)\n",
    "                            for item in dff.iloc[:,2]:\n",
    "                                    if item<0:\n",
    "                                        print('/NP_'+str(NP[i])+'/phi_'+\"{:.2f}\".format(phi[j])+'/ar_'+str(ar[k])+'/run_'+str(l+1)+' - negative shear rate')\n",
    "                                        s+=1\n",
    "                                        break\n",
    "                            for item in dff.iloc[:,3]:  \n",
    "                                    if item > 1e4:\n",
    "                                        print('/NP_'+str(NP[i])+'/phi_'+\"{:.2f}\".format(phi[j])+'/ar_'+str(ar[k])+'/run_'+str(l+1)+' - high visc')\n",
    "                                        #condv=True\n",
    "                                        s+=1\n",
    "                                        break\n",
    "if s==0:\n",
    "    print('\\n no anomaly in viscosity or shear rate is found')\n",
    "\n",
    "# we find that anamolies are found in many phi = 0.76 and hence we neglect it from the study"
   ]
  },
  {
   "cell_type": "markdown",
   "id": "f672ab86",
   "metadata": {},
   "source": [
    "### For tracking progress of runs on cluster"
   ]
  },
  {
   "cell_type": "code",
   "execution_count": 1,
   "id": "96678d98",
   "metadata": {},
   "outputs": [
    {
     "name": "stdout",
     "output_type": "stream",
     "text": [
      "Intel MKL WARNING: Support of Intel(R) Streaming SIMD Extensions 4.2 (Intel(R) SSE4.2) enabled only processors has been deprecated. Intel oneAPI Math Kernel Library 2025.0 will require Intel(R) Advanced Vector Extensions (Intel(R) AVX) instructions.\n",
      "Intel MKL WARNING: Support of Intel(R) Streaming SIMD Extensions 4.2 (Intel(R) SSE4.2) enabled only processors has been deprecated. Intel oneAPI Math Kernel Library 2025.0 will require Intel(R) Advanced Vector Extensions (Intel(R) AVX) instructions.\n",
      "\n",
      "\n",
      "Reading from CUNY HPC - done\n",
      "\n"
     ]
    }
   ],
   "source": [
    "# Reading data from CUNY HPC\n",
    "\n",
    "import os\n",
    "import matplotlib\n",
    "import numpy             as     np\n",
    "import pandas            as     pd\n",
    "import scipy.optimize    as     opt\n",
    "import matplotlib.pyplot as     plt\n",
    "from   fractions         import Fraction\n",
    "import warnings\n",
    "warnings.filterwarnings('ignore', category=DeprecationWarning, module='mkl')\n",
    "\n",
    "\n",
    "TopDir      = \"/Users/rahul/sshfs/high_bidispersity\"\n",
    "#TopDir      = \"/Users/rahul/sshfs_excelsior/simulations/high_bidispersity\" \n",
    "\n",
    "print('CUNY HPC cluster not mounted') if not os.path.exists(TopDir) else None\n",
    "\n",
    "#Parameters\n",
    "\n",
    "NP          = np.array([500, 1000, 2000, 4000])\n",
    "\n",
    "phi         = np.array([0.70, 0.71, 0.72, 0.73, 0.74, 0.75])\n",
    "\n",
    "ar          = np.array([1.0, 1.4, 1.8, 2.0, 4.0])\n",
    "    \n",
    "run         = {500:8, 1000:4, 2000:2, 4000:1}\n",
    "    \n",
    "data = {}\n",
    "npl=[];phil=[];arl=[];runl=[];\n",
    "time=[];\n",
    "print('')\n",
    "\n",
    "for i in range(len(NP)):\n",
    "        for j in range(len(phi)):\n",
    "            for k in range(len(ar)):          \n",
    "                for l in range (run[NP[i]]):\n",
    "                    cdir=TopDir+'/NP_'+str(NP[i])+'/phi_'+\"{:.2f}\".format(phi[j])+'/ar_'+str(ar[k])+'/Vr_0.5/run_'+str(l+1)+'/data_random_seed_params_stress100r_shear.dat'\n",
    "                    if not os.path.exists(cdir):\n",
    "                        time.append(0)\n",
    "                        npl.append(NP[i]); phil.append(float(\"{:.2f}\".format(phi[j]))); arl.append(ar[k]); runl.append(l+1);\n",
    "                    else:\n",
    "                        with open(cdir,'r') as file:\n",
    "                            lines=file.readlines()\n",
    "                            b=lines[-1].strip()\n",
    "                            time.append(float(b.split()[1]))\n",
    "                            npl.append(NP[i]); phil.append(float(\"{:.2f}\".format(phi[j]))); arl.append(ar[k]); runl.append(l+1);\n",
    "data={'NP':npl,'Phi':phil,'ar':arl,'#run':runl,'Time':time}             \n",
    "df1=pd.DataFrame(data)\n",
    "print('\\nReading from CUNY HPC - done\\n') if os.path.exists(TopDir) else None\n",
    "\n",
    "\n",
    "#df.head()               \n",
    "#pd.DataFrame(data1).to_csv('output.txt',index=False)"
   ]
  },
  {
   "cell_type": "code",
   "execution_count": 33,
   "id": "f28e083a",
   "metadata": {},
   "outputs": [
    {
     "name": "stdout",
     "output_type": "stream",
     "text": [
      "\n",
      "\n",
      "Reading from CCNY Excelsior - done\n",
      "\n"
     ]
    }
   ],
   "source": [
    "# Reading data from CCNY EXCELSIOR\n",
    "\n",
    "import os\n",
    "import matplotlib\n",
    "import numpy             as     np\n",
    "import pandas            as     pd\n",
    "import scipy.optimize    as     opt\n",
    "import matplotlib.pyplot as     plt\n",
    "from   fractions         import Fraction\n",
    "import warnings\n",
    "warnings.filterwarnings('ignore', category=DeprecationWarning, module='mkl')\n",
    "\n",
    "TopDir      = \"/Users/rahul/sshfs_excelsior/simulations/high_bidispersity\" \n",
    "\n",
    "print('Excelsior cluster not mounted') if not os.path.exists(TopDir) else None\n",
    "\n",
    "#Parameters\n",
    "\n",
    "NP          = np.array([500, 1000, 2000, 4000])\n",
    "\n",
    "phi         = np.array([0.70, 0.71, 0.72, 0.73, 0.74, 0.75])\n",
    "\n",
    "ar          = np.array([1.0, 1.4, 1.8, 2.0, 4.0])\n",
    "    \n",
    "run         = {500:8, 1000:4, 2000:2, 4000:1}\n",
    "    \n",
    "data = {}\n",
    "npl=[];phil=[];arl=[];runl=[];\n",
    "time=[];\n",
    "print('')\n",
    "\n",
    "for i in range(len(NP)):\n",
    "        for j in range(len(phi)):\n",
    "            for k in range(len(ar)):          \n",
    "                for l in range (run[NP[i]]):\n",
    "                    cdir=TopDir+'/NP_'+str(NP[i])+'/phi_'+\"{:.2f}\".format(phi[j])+'/ar_'+str(ar[k])+'/Vr_0.5/run_'+str(l+1)+'/data_random_seed_params_stress100r_shear.dat'\n",
    "                    if not os.path.exists(cdir):\n",
    "                        time.append(0)\n",
    "                        npl.append(NP[i]); phil.append(float(\"{:.2f}\".format(phi[j]))); arl.append(ar[k]); runl.append(l+1);\n",
    "                    else:\n",
    "                        with open(cdir,'r') as file:\n",
    "                            lines=file.readlines()\n",
    "                            b=lines[-1].strip()\n",
    "                            time.append(float(b.split()[1]))\n",
    "                            npl.append(NP[i]); phil.append(float(\"{:.2f}\".format(phi[j]))); arl.append(ar[k]); runl.append(l+1);\n",
    "data={'NP':npl,'Phi':phil,'ar':arl,'#run':runl,'Time':time}             \n",
    "df2=pd.DataFrame(data)\n",
    "print('\\nReading from CCNY Excelsior - done\\n') if os.path.exists(TopDir) else None\n",
    "\n",
    "#df.head()               \n",
    "#pd.DataFrame(data1).to_csv('output.txt',index=False)"
   ]
  },
  {
   "cell_type": "markdown",
   "id": "1b9d4443",
   "metadata": {},
   "source": [
    "### Gamma plots for cluster progress"
   ]
  },
  {
   "cell_type": "code",
   "execution_count": 3,
   "id": "d829e3b2",
   "metadata": {},
   "outputs": [],
   "source": [
    "#gamma plots function\n",
    "\n",
    "import matplotlib.pyplot as plt\n",
    "import numpy as np\n",
    "\n",
    "def gamma_plots(Np, data=df1,phi=phi, save_plots=False,):\n",
    "    nplots=len(phi[:])\n",
    "\n",
    "    if nplots<1:\n",
    "        print('Invalid phi argument')\n",
    "    elif nplots<3:\n",
    "        fig, ax = plt.subplots(1, 2, figsize=(8, 4))\n",
    "        for j in range(nplots):\n",
    "            for nn in range(run[Np]):\n",
    "                subdf=data[(data['NP'] == Np) & (data['Phi'] == phi[j])& (data['#run'] == nn+1)]\n",
    "                ax[j].plot(list(subdf['ar'].iloc[:]),list(subdf['Time'].iloc[:]),'-*'); \n",
    "                ax[j].set_title('Phi='+str(phi[j]));\n",
    "                ax[j].set_xticks(list(subdf['ar'].iloc[:]))\n",
    "    else:\n",
    "        ncols = 2\n",
    "        nrows = int(np.ceil(nplots/ncols))\n",
    "        fig, axes = plt.subplots(nrows, ncols, figsize=(10, 8))\n",
    "        for i in range(nplots):\n",
    "            row = i // num_cols\n",
    "            col = i % num_cols\n",
    "            ax = axes[row, col]\n",
    "            for nn in range(run[Np]):\n",
    "                subdf=data[(data['NP'] == Np) & (data['Phi'] == phi[i])& (data['#run'] == nn+1)]\n",
    "                ax.plot(list(subdf['ar'].iloc[:]),list(subdf['Time'].iloc[:]),'-*'); \n",
    "                ax.set_title('Phi='+str(phi[i]));\n",
    "                ax.set_xticks(list(subdf['ar'].iloc[:]))\n",
    "\n",
    "    lg = ['run' + str(nn+1) for nn in range(run[Np])]\n",
    "    fig.legend(lg, loc='upper right',bbox_to_anchor=(.95, .7),ncol=1)\n",
    "    fig.text(0.5, -0.02, 'ar', ha='center', fontsize=14, weight='bold')\n",
    "    fig.text(-0.02, 0.5, 'gamma', va='center', fontsize=14, weight='bold', rotation='vertical')\n",
    "    fig.suptitle('NP='+str(Np), fontsize=16, weight='bold')\n",
    "    plt.tight_layout()\n",
    "    if save_plots:\n",
    "        plt.savefig(f'NP{Np}_gamma.jpeg', dpi=500, bbox_inches='tight')\n",
    "        \n",
    "plt.show()"
   ]
  },
  {
   "cell_type": "code",
   "execution_count": 4,
   "id": "fefe6c65",
   "metadata": {
    "scrolled": false
   },
   "outputs": [
    {
     "data": {
      "image/png": "[encoded data removed]",
      "text/plain": [
       "<Figure size 800x400 with 2 Axes>"
      ]
     },
     "metadata": {},
     "output_type": "display_data"
    }
   ],
   "source": [
    "#CUNY HPC\n",
    "#currently running the following np for phi=0.71\n",
    "#gamma_plots(500,df1,[0.71]); gamma_plots(2000,df1,[0.71]); \n",
    "gamma_plots(4000,df1,[0.71])"
   ]
  },
  {
   "cell_type": "code",
   "execution_count": 17,
   "id": "e2ab7260",
   "metadata": {},
   "outputs": [
    {
     "data": {
      "image/png": "[encoded data removed]",
      "text/plain": [
       "<Figure size 800x400 with 2 Axes>"
      ]
     },
     "metadata": {},
     "output_type": "display_data"
    }
   ],
   "source": [
    "gamma_plots(4000,df1,[0.71])"
   ]
  },
  {
   "cell_type": "code",
   "execution_count": 20,
   "id": "54810636",
   "metadata": {},
   "outputs": [
    {
     "data": {
      "image/png": "[encoded data removed]",
      "text/plain": [
       "<Figure size 800x400 with 2 Axes>"
      ]
     },
     "metadata": {},
     "output_type": "display_data"
    }
   ],
   "source": [
    "#EXCELSIOR\n",
    "\n",
    "gamma_plots(2000,df1,[0.71])"
   ]
  },
  {
   "cell_type": "code",
   "execution_count": null,
   "id": "a840b423",
   "metadata": {},
   "outputs": [],
   "source": []
  },
  {
   "cell_type": "code",
   "execution_count": 12,
   "id": "7c8d98c8",
   "metadata": {},
   "outputs": [],
   "source": [
    "TopDir=\"/Users/rahul/Library/CloudStorage/OneDrive-CUNY/CUNY/Research/Bidisperse_project/high_bidispersity\""
   ]
  },
  {
   "cell_type": "code",
   "execution_count": 24,
   "id": "ebad35ce",
   "metadata": {},
   "outputs": [
    {
     "name": "stdout",
     "output_type": "stream",
     "text": [
      "/n/phi_0.75/ar_1.0/run_1/\n",
      "/n/phi_0.75/ar_1.0/run_2/\n",
      "/n/phi_0.75/ar_1.0/run_3/\n",
      "/n/phi_0.75/ar_1.0/run_4/\n"
     ]
    }
   ],
   "source": [
    "# To check if a certain file is present in all folders\n",
    "\n",
    "# checking if F_rig and Z_Znet calculations are done\n",
    "\n",
    "NP_array  = [1000]\n",
    "\n",
    "phi_array = [0.70,0.71,0.72,0.73,0.74,0.75]\n",
    "\n",
    "ar_array = [1.0,1.4,1.8,2.0,4.0]\n",
    "\n",
    "run_dict = {500:8, 1000:4, 2000:2, 4000:1}\n",
    "\n",
    "for j in range(len(NP_array)):\n",
    "    NP = NP_array[j]\n",
    "    for k in range(len(phi_array)):\n",
    "        phi = phi_array[k]\n",
    "        for l in range(len(ar_array)):\n",
    "            ar = ar_array[l]\n",
    "            for m in range(run_dict[NP_array[j]]):\n",
    "                run = m+1;\n",
    "                Dir = TopDir + \"/NP_\" + str(NP) + \"/phi_0.\" + str(int(phi*100)) + \"/ar_\" + str(ar) + \"/Vr_0.5/run_\" + str(run) +\"/\"\n",
    "                #workingFileName = Dir + \"F_rig.txt\"\n",
    "                workingFileName = Dir + \"Z_Znet.txt\"\n",
    "                if not os.path.exists(workingFileName):\n",
    "                    print(f'/n{\"/phi_0.\" + str(int(phi*100)) + \"/ar_\" + str(ar) + \"/run_\" + str(run) +\"/\"}')"
   ]
  },
  {
   "cell_type": "code",
   "execution_count": null,
   "id": "63b0e8fa",
   "metadata": {},
   "outputs": [
    {
     "name": "stdout",
     "output_type": "stream",
     "text": [
      "Intel MKL WARNING: Support of Intel(R) Streaming SIMD Extensions 4.2 (Intel(R) SSE4.2) enabled only processors has been deprecated. Intel oneAPI Math Kernel Library 2025.0 will require Intel(R) Advanced Vector Extensions (Intel(R) AVX) instructions.\n",
      "Intel MKL WARNING: Support of Intel(R) Streaming SIMD Extensions 4.2 (Intel(R) SSE4.2) enabled only processors has been deprecated. Intel oneAPI Math Kernel Library 2025.0 will require Intel(R) Advanced Vector Extensions (Intel(R) AVX) instructions.\n",
      "done - 0\n",
      "done - 1\n"
     ]
    }
   ],
   "source": [
    "## plotting parameters form .dat file\n",
    "\n",
    "import os\n",
    "import matplotlib\n",
    "import numpy             as     np\n",
    "import pandas            as     pd\n",
    "import scipy.optimize    as     opt\n",
    "import matplotlib.pyplot as     plt\n",
    "from   fractions         import Fraction\n",
    "import pickle\n",
    "import warnings\n",
    "warnings.filterwarnings('ignore', category=DeprecationWarning, module='mkl')\n",
    "\n",
    "\n",
    "#INITIALIZING\n",
    "plt.close('all')\n",
    "TopDir      = \"/Users/rahul/Library/CloudStorage/OneDrive-CUNY/CUNY/Research/Bidisperse_project/high_bidispersity\"\n",
    "\n",
    "#Length of lists below should be of the same\n",
    "NP          = np.array([1000])\n",
    "run         = {500:8, 1000:4, 2000:2, 4000:1}\n",
    "\n",
    "#Length of lists below can of any size\n",
    "phi         = np.array([0.72])\n",
    "ar          = np.array([1.4])\n",
    "\n",
    "\n",
    "#Intitializing dataset keys list and dictionary\n",
    "datasets=[]                    \n",
    "datasets_dict = {key: None for key in datasets}                    \n",
    "        \n",
    "\n",
    "for i in range(len(NP)):\n",
    "    for j in range(len(phi)):\n",
    "        for k in range(len(ar)):\n",
    "            dataname='NP_'+str(NP[i])+'_phi_'+\"{:.2f}\".format(phi[j])+'_ar_'+str(ar[k])\n",
    "            datasets.append(dataname)\n",
    "            datasum=[0]\n",
    "            for l in range (run[NP[i]]):\n",
    "                MainDir = TopDir+'/NP_'+str(NP[i])+'/phi_'+\"{:.2f}\".format(phi[j])+'/ar_'+str(ar[k])+'/Vr_0.5/run_'+str(l+1)+'/data_random_seed_params_stress100r_shear.dat'\n",
    "                with open(MainDir,'r') as file:\n",
    "                    for line in file:\n",
    "                        if not line.startswith(\"#\"):\n",
    "                            break\n",
    "                        datasum += np.loadtxt(file)\n",
    "                print(f'done - {l+1}')\n",
    "            datasets_dict['NP_'+str(NP[i])+'_phi_'+\"{:.2f}\".format(phi[j])+'_ar_'+str(ar[k])]=datasum/run[NP[i]]\n",
    "\n",
    "print(\"Data loaded\")\n",
    "\n",
    "#######################\n",
    "#Function 'bidi' for plotting any parameter from the .dat file\n",
    "def bidi(npp,y,x,off=40):\n",
    "    plt.clf()\n",
    "    n_rows=len(phi)\n",
    "    n_cols=len(ar)\n",
    "    fig, axs = plt.subplots(n_rows, n_cols, figsize=(20,10))\n",
    "    yvals=[]\n",
    "    for i, phii in enumerate(phi):\n",
    "        for j, arj in enumerate(ar):\n",
    "            filename='NP_'+str(npp)+'_phi_'+\"{:.2f}\".format(phii)+'_ar_'+str(arj)\n",
    "            yvals.append(datasets_dict[filename][off:,x])\n",
    "    ylist=[item for sublist in yvals for item in sublist]\n",
    "    for i, phii in enumerate(phi):\n",
    "        for j, arj in enumerate(ar):\n",
    "            filename='NP_'+str(npp)+'_phi_'+\"{:.2f}\".format(phii)+'_ar_'+str(arj)\n",
    "            axs[i, j].plot(datasets_dict[filename][off:,y], datasets_dict[filename][off:,x])\n",
    "            axs[i, j].set_ylim(min(ylist), max(ylist)*1.01)\n",
    "            axs[0, j].set_title(f'ar = {arj}')\n",
    "        axs[i, 0].set_ylabel(f'phi = {phii}')\n",
    "    fig.suptitle(f'NP={npp}',fontsize=20)\n",
    "    plt.figtext(0.5, .99, f'Parameter {x} vs. parameter {y}', fontsize=8, ha='center')\n",
    "    plt.tight_layout()\n",
    "    plt.show()\n",
    "    return"
   ]
  }
 ],
 "metadata": {
  "kernelspec": {
   "display_name": "Python 3 (ipykernel)",
   "language": "python",
   "name": "python3"
  },
  "language_info": {
   "codemirror_mode": {
    "name": "ipython",
    "version": 3
   },
   "file_extension": ".py",
   "mimetype": "text/x-python",
   "name": "python",
   "nbconvert_exporter": "python",
   "pygments_lexer": "ipython3",
   "version": "3.8.18"
  }
 },
 "nbformat": 4,
 "nbformat_minor": 5
}
