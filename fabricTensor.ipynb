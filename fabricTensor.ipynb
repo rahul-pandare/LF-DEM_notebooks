{
 "cells": [
  {
   "cell_type": "code",
   "execution_count": 1,
   "id": "087b6f78",
   "metadata": {},
   "outputs": [],
   "source": [
    "## Plotting the trace of contact fabric tensor\n",
    "\n",
    "import os\n",
    "import matplotlib\n",
    "import numpy             as     np\n",
    "import pandas            as     pd\n",
    "import scipy.optimize    as     opt\n",
    "import matplotlib.pyplot as     plt\n",
    "from   matplotlib        import font_manager\n",
    "from   fractions         import Fraction\n",
    "import pickle\n",
    "import warnings\n",
    "import sys"
   ]
  },
  {
   "cell_type": "code",
   "execution_count": 2,
   "id": "90ab1043",
   "metadata": {},
   "outputs": [],
   "source": [
    "# Matplotlib rc parameters modification\n",
    "\n",
    "plt.rcParams.update({\n",
    "  \"figure.max_open_warning\": 0,\n",
    "  \"text.usetex\": True,\n",
    "  \"text.latex.preamble\": r\"\\usepackage{type1cm}\",\n",
    "  \"figure.autolayout\": True,\n",
    "  \"font.family\": \"STIXGeneral\",\n",
    "  \"mathtext.fontset\": \"stix\",\n",
    "  \"font.size\":        8,\n",
    "  \"xtick.labelsize\":  12,\n",
    "  \"ytick.labelsize\":  12,\n",
    "  \"lines.linewidth\":  1,\n",
    "  \"lines.markersize\": 5\n",
    "})\n",
    "plt.rcParams['text.latex.preamble']= r\"\\usepackage{amsmath}\""
   ]
  },
  {
   "cell_type": "code",
   "execution_count": 3,
   "id": "e90be5af",
   "metadata": {},
   "outputs": [],
   "source": [
    "def interactionsList(interactionFile):\n",
    "    '''\n",
    "    This function reads the interaction file and creates a nested-list,\n",
    "    each list inside contains the array of all interaction parameters for\n",
    "    that timestep.\n",
    "\n",
    "    Input: interactionFile - the location of the interaction data file\n",
    "    '''\n",
    "\n",
    "    hashCounter = 0\n",
    "    temp        = []\n",
    "    contactList = [] # list with interaction parameters for each element at each timestep\n",
    "\n",
    "    fileLines = interactionFile.readlines()[27:] # skipping the comment lines\n",
    "    for line in fileLines:\n",
    "        if not line.split()[0] == '#':\n",
    "            lineList = [float(value) for value in line.split()]\n",
    "            temp.append(lineList)\n",
    "        else:\n",
    "            hashCounter += 1 # checking if counter reaches 7 (7 lines of comments after every timestep data)\n",
    "            if hashCounter == 7: \n",
    "                contactList.append(np.array(temp))\n",
    "                temp        = []\n",
    "                hashCounter = 0\n",
    "    interactionFile.close()\n",
    "    return contactList  "
   ]
  },
  {
   "cell_type": "code",
   "execution_count": 8,
   "id": "c5fa7f70",
   "metadata": {},
   "outputs": [
    {
     "data": {
      "text/plain": [
       "<function matplotlib.pyplot.show(close=None, block=None)>"
      ]
     },
     "execution_count": 8,
     "metadata": {},
     "output_type": "execute_result"
    },
    {
     "data": {
      "image/png": "[encoded data removed]",
      "text/plain": [
       "<Figure size 640x480 with 1 Axes>"
      ]
     },
     "metadata": {},
     "output_type": "display_data"
    }
   ],
   "source": [
    "# Simulation data mount point.\n",
    "topDir        = \"/media/rahul/Rahul_2TB/high_bidispersity/\"\n",
    "fig_save_path = \"/home/rahul/Dropbox (City College)/CUNY/Research/Bidisperse Project/analysis/figures/\"\n",
    "\n",
    "# Relevant file names to read.\n",
    "ranSeedFile = \"random_seed.dat\"\n",
    "intFile     = \"int_random_seed_params_stress100r_shear.dat\"\n",
    "contFile    = 'contacts.txt'\n",
    "\n",
    "# Some simulation parameters.\n",
    "\n",
    "phi = [0.70,0.71,0.72,0.73,0.74,0.76]\n",
    "\n",
    "run = {500:8, 1000:4, 2000:2, 4000:1}\n",
    "\n",
    "ar  = [1.0, 1.4, 1.8, 2.0, 4.0]\n",
    "\n",
    "phii = 0.75\n",
    "'''\n",
    "This function plots the contact angle histogram for all particles in the system and all ar values.\n",
    "Plots is Ec vs theta, with one curve for each ar value for one phi value.\n",
    "\n",
    "input: phii - value for one single \n",
    "'''\n",
    "\n",
    "#plt.clf()\n",
    "cmap = matplotlib.colormaps['viridis_r'] #color scheme\n",
    "\n",
    "npp  = 1000\n",
    "off  = 100\n",
    "phii = '{:.3f}'.format(phii) if len(str(phii).split('.')[1]) > 2 else '{:.2f}'.format(phii)\n",
    "\n",
    "for j in range(len(phi)):\n",
    "    phii=phi[j]\n",
    "    phii = '{:.3f}'.format(phii) if len(str(phii).split('.')[1]) > 2 else '{:.2f}'.format(phii)\n",
    "    \n",
    "    alpha = []\n",
    "    errAlpha = []\n",
    "    for k in range(len(ar)):\n",
    "        traceMat = []\n",
    "        offDia   = []\n",
    "        dataname            = topDir+'NP_'+str(npp)+'/phi_'+phii+'/ar_'+str(ar[k])+'/Vr_0.5'\n",
    "        for l in range (run[npp]):\n",
    "            interFile   = open(f'{dataname}/run_{l+1}/{intFile}', 'r')\n",
    "            contactList = interactionsList(interFile)\n",
    "\n",
    "            for sampleList in contactList[off:]:\n",
    "                for i in range (sampleList.shape[0]):\n",
    "                    if int(sampleList[i,10]) == 2:\n",
    "                        normVec = [sampleList[i,2],sampleList[i,4]]\n",
    "                        fabTen = np.outer(normVec, normVec)\n",
    "                        trace1  = np.matrix.trace(fabTen)\n",
    "                        offVal = fabTen[0][1]\n",
    "\n",
    "                        traceMat.append(trace1)\n",
    "                        #offDia.append(offVal)\n",
    "\n",
    "        alpha.append(np.mean(traceMat))\n",
    "        errAlpha.append(np.std(traceMat))\n",
    "\n",
    "    plt.errorbar(ar, alpha, yerr=errAlpha, fmt='--o', label=r'$\\phi$' + f' = {phii}', color=cmap((j+1)/len(phi)), capsize=2, linewidth=1.2, elinewidth=0.5)\n",
    "\n",
    "plt.grid(which='Both', alpha=0.2)\n",
    "\n",
    "#plt.title(fr\"$\\phi = {phii}$\", fontsize=18)\n",
    "plt.xlabel(r'$\\delta$', fontsize=14,fontstyle='italic')\n",
    "plt.ylabel(r'$tr(a)$', fontsize=14,fontstyle='italic')\n",
    "\n",
    "plt.xticks(fontsize=12)\n",
    "plt.yticks(fontsize=12)\n",
    "plt.legend(fontsize=14)\n",
    "plt.legend(fontsize=10, loc = 'upper right', labelspacing = 1, borderpad = 1)\n",
    "\n",
    "plt.tight_layout()\n",
    "\n",
    "if True:\n",
    "    figFormat     = \".pdf\"\n",
    "    plt.savefig(fig_save_path+'traceOfContactStresslet' + '_NP_' + str(1000) + '_phi_' + str(phii) + figFormat, bbox_inches = \"tight\", dpi = 500)\n",
    "plt.show"
   ]
  },
  {
   "cell_type": "code",
   "execution_count": 7,
   "id": "94310672",
   "metadata": {},
   "outputs": [
    {
     "name": "stderr",
     "output_type": "stream",
     "text": [
      "/tmp/ipykernel_466895/2144397059.py:9: UserWarning: No artists with labels found to put in legend.  Note that artists whose label start with an underscore are ignored when legend() is called with no argument.\n",
      "  plt.legend(fontsize=14)\n",
      "/tmp/ipykernel_466895/2144397059.py:10: UserWarning: No artists with labels found to put in legend.  Note that artists whose label start with an underscore are ignored when legend() is called with no argument.\n",
      "  plt.legend(fontsize=10, loc = 'upper right', labelspacing = 1, borderpad = 1)\n"
     ]
    },
    {
     "data": {
      "text/plain": [
       "<function matplotlib.pyplot.show(close=None, block=None)>"
      ]
     },
     "execution_count": 7,
     "metadata": {},
     "output_type": "execute_result"
    },
    {
     "data": {
      "image/png": "[encoded data removed]",
      "text/plain": [
       "<Figure size 640x480 with 1 Axes>"
      ]
     },
     "metadata": {},
     "output_type": "display_data"
    }
   ],
   "source": []
  },
  {
   "cell_type": "code",
   "execution_count": 4,
   "id": "66ae81cb",
   "metadata": {},
   "outputs": [],
   "source": [
    "fig_save_path = \"/home/rahul/Dropbox (City College)/CUNY/Research/Bidisperse Project/analysis/figures/\""
   ]
  },
  {
   "cell_type": "code",
   "execution_count": 5,
   "id": "6f6c424c",
   "metadata": {},
   "outputs": [
    {
     "data": {
      "text/plain": [
       "'/home/rahul/Dropbox (City College)/CUNY/Research/Bidisperse Project/analysis/figures/traceOfContactStresslet_NP_1000'"
      ]
     },
     "execution_count": 5,
     "metadata": {},
     "output_type": "execute_result"
    }
   ],
   "source": [
    "fig_save_path+'traceOfContactStresslet' + '_NP_' + str(1000) "
   ]
  }
 ],
 "metadata": {
  "kernelspec": {
   "display_name": "Python 3 (ipykernel)",
   "language": "python",
   "name": "python3"
  },
  "language_info": {
   "codemirror_mode": {
    "name": "ipython",
    "version": 3
   },
   "file_extension": ".py",
   "mimetype": "text/x-python",
   "name": "python",
   "nbconvert_exporter": "python",
   "pygments_lexer": "ipython3",
   "version": "3.11.5"
  }
 },
 "nbformat": 4,
 "nbformat_minor": 5
}
