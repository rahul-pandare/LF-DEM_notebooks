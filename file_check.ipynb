{
 "cells": [
  {
   "cell_type": "code",
   "execution_count": 2,
   "metadata": {},
   "outputs": [],
   "source": [
    "import os\n",
    "import matplotlib\n",
    "import numpy             as     np\n",
    "import pandas            as     pd\n",
    "import scipy.optimize    as     opt\n",
    "import matplotlib.pyplot as     plt\n",
    "from   fractions         import Fraction\n",
    "import warnings\n",
    "warnings.filterwarnings('ignore', category=DeprecationWarning, module='mkl')"
   ]
  },
  {
   "cell_type": "code",
   "execution_count": 4,
   "metadata": {},
   "outputs": [],
   "source": [
    "file_names = [\n",
    "    \"chk_random_seed_params_stress100r_shear.dat\",  #0\n",
    "    \"conf_random_seed_params_stress100r_shear.dat\", #1\n",
    "    \"data_random_seed_params_stress100r_shear.dat\", #2\n",
    "    \"input_random_seed_params_stress100r_shear.dat\",#3\n",
    "    \"int_random_seed_params_stress100r_shear.dat\",  #4\n",
    "    \"params.txt\",                                   #5\n",
    "    \"par_random_seed_params_stress100r_shear.dat\",  #6\n",
    "    \"random_seed.dat\",                              #7\n",
    "    \"random_seed_params_stress100r_shear.gsd\",      #8\n",
    "    \"st_random_seed_params_stress100r_shear.dat\",   #9\n",
    "    \"t_random_seed_params_stress100r_shear.dat\",    #10\n",
    "    \"F_rig.txt\",                                    #11\n",
    "    \"rig_random_seed_params_stress100r_shear.dat\",  #12\n",
    "    \n",
    "    #\"Z_Znet.txt\",                                  #13\n",
    "    \"frictPartsIDs.txt\",                            #14\n",
    "    \"genParams.txt\",                                #15\n",
    "    #\"rigPers.txt\"                                  #16\n",
    "]"
   ]
  },
  {
   "cell_type": "code",
   "execution_count": 9,
   "metadata": {},
   "outputs": [],
   "source": [
    "# to check for all files together\n",
    "\n",
    "#TopDir=\"/media/rahul/Linux_1TB_HDD/Bidisperse_project/\"\n",
    "TopDir=\"/media/rahul/Rahul_2TB/high_bidispersity/\"\n",
    "\n",
    "NP_array  = [1000]\n",
    "\n",
    "phi_array = [0.72, 0.74, 0.75, 0.76, 0.765, 0.77, 0.78, 0.765, 0.79, 0.795, 0.8]\n",
    "\n",
    "ar_array = [1.0,1.4,1.8,2.0,4.0]\n",
    "\n",
    "run_dict = {500:8, 1000:4, 2000:2, 4000:1}\n",
    "\n",
    "for j in range(len(NP_array)):\n",
    "    NP = NP_array[j]\n",
    "    for k in range(len(phi_array)):\n",
    "        phi = phi_array[k]\n",
    "        # redefining phi\n",
    "        phir = '{:.3f}'.format(phi) if len(str(phi).split('.')[1])>2 else '{:.2f}'.format(phi)\n",
    "        for l in range(len(ar_array)):\n",
    "            ar = ar_array[l]\n",
    "            for m in range(run_dict[NP_array[j]]):\n",
    "                run = m+1;\n",
    "                Dir = TopDir + \"/NP_\" + str(NP) + \"/phi_\" + phir + \"/ar_\" + str(ar) + \"/Vr_0.5/run_\" + str(run) +\"/\"\n",
    "                if os.path.exists(Dir):\n",
    "                    for i in range(len(file_names)-2):\n",
    "                        workingFileName = Dir + file_names[i]\n",
    "                        if not os.path.exists(workingFileName):\n",
    "                            print(f'\\n file not found - {\"/phi_\" + phir + \"/ar_\" + str(ar) + \"/run_\" + str(run) +\"/\"}')\n",
    "                            print(f'{file_names[i]}')"
   ]
  },
  {
   "cell_type": "code",
   "execution_count": 27,
   "metadata": {},
   "outputs": [
    {
     "name": "stdout",
     "output_type": "stream",
     "text": [
      "\\\n",
      "\\\n",
      "\\\n",
      "\\\n",
      "\\\n",
      "\\\n",
      "file not found - /phi_0.77/ar_1.4/Vr_0.75/run_1/\n",
      "\\\n",
      "\\\n",
      "file not found - /phi_0.785/ar_4.0/Vr_0.25/run_1/\n",
      "file not found - /phi_0.785/ar_4.0/Vr_0.25/run_2/\n",
      "file not found - /phi_0.785/ar_4.0/Vr_0.5/run_1/\n",
      "file not found - /phi_0.785/ar_4.0/Vr_0.5/run_2/\n",
      "file not found - /phi_0.785/ar_4.0/Vr_0.75/run_1/\n",
      "file not found - /phi_0.785/ar_4.0/Vr_0.75/run_2/\n",
      "\\\n",
      "\\\n",
      "file not found - /phi_0.795/ar_4.0/Vr_0.25/run_1/\n",
      "file not found - /phi_0.795/ar_4.0/Vr_0.25/run_2/\n",
      "file not found - /phi_0.795/ar_4.0/Vr_0.5/run_1/\n",
      "file not found - /phi_0.795/ar_4.0/Vr_0.5/run_2/\n",
      "\\\n",
      "file not found - /phi_0.80/ar_4.0/Vr_0.25/run_2/\n"
     ]
    }
   ],
   "source": [
    "# to check for individual files\n",
    "\n",
    "#TopDir=\"/media/Linux_1TB/new_Data/\" # local downloaded data (feb 3 2025)\n",
    "TopDir=\"/home/rahul/mnt/sshfs_darwin/simulations/\" # server\n",
    "\n",
    "npp       = 1000\n",
    "phi_array = [0.72, 0.74, 0.75, 0.76, 0.765, 0.77, 0.78, 0.785, 0.79, 0.795, 0.8]\n",
    "ar_array  = [1.0,1.4,2.0,4.0]\n",
    "vr_array  = ['0.25', '0.5', '0.75']\n",
    "numRuns   = 2\n",
    "\n",
    "for k in range(len(phi_array)):\n",
    "    print('\\\\')\n",
    "    phi = f\"{phi_array[k]:.3f}\" if phi_array[k] != round(phi_array[k], 2) else f\"{phi_array[k]:.2f}\"\n",
    "    for l in range(len(ar_array)):\n",
    "        ar = ar_array[l]\n",
    "        for m in range(len(vr_array)):\n",
    "            vr = vr_array[m]\n",
    "            for n in range(numRuns):\n",
    "                run = n+1;\n",
    "                Dir = TopDir + \"NP_\" + str(npp) + \"/phi_\" + phi + \"/ar_\" + str(ar) + \"/Vr_\" + str(vr) + \"/run_\" + str(run) +\"/\"\n",
    "                if os.path.exists(Dir):\n",
    "                    workingFileName = Dir + file_names[12]\n",
    "                    if not os.path.exists(workingFileName):\n",
    "                        print(f'file not found - {\"/phi_\" + phi + \"/ar_\" + str(ar) + \"/Vr_\" + str(vr) + \"/run_\" + str(run) +\"/\"}')\n",
    "                #else:\n",
    "                    #print(f'\\npath not found - {\"/phi_0.\" + str(int(phi*100)) + \"/ar_\" + str(ar) + \"/run_\" + str(run) +\"/\"}')"
   ]
  },
  {
   "cell_type": "code",
   "execution_count": 28,
   "metadata": {},
   "outputs": [
    {
     "data": {
      "text/plain": [
       "('F_rig.txt',\n",
       " 'rig_random_seed_params_stress100r_shear.dat',\n",
       " 'data_random_seed_params_stress100r_shear.dat')"
      ]
     },
     "execution_count": 28,
     "metadata": {},
     "output_type": "execute_result"
    }
   ],
   "source": [
    "file_names[11],file_names[12],file_names[2]"
   ]
  },
  {
   "cell_type": "code",
   "execution_count": 70,
   "metadata": {
    "scrolled": true
   },
   "outputs": [],
   "source": [
    "# to check shapes of znet and frig files meet requirement\n",
    "\n",
    "import os\n",
    "#TopDir=\"/home/rahul/Documents/Bidisperse_project\"\n",
    "TopDir=\"/media/rahul/Extreme SSD/high_bidispersity\"\n",
    "\n",
    "NP_array  = [1000]\n",
    "\n",
    "phi_array = [0.70,0.71,0.72,0.73,0.74]\n",
    "#phi_array = [0.73]\n",
    "\n",
    "ar_array = [1.0,1.4,1.8,2.0,4.0]\n",
    "#ar_array = [1.0,1.4,4.0]\n",
    "\n",
    "run_dict = {500:8, 1000:4, 2000:2, 4000:1}\n",
    "\n",
    "tt={0.70:50, 0.71:50, 0.72:50, 0.73:50, 0.74:35, 0.75:20}\n",
    "\n",
    "for j in range(len(NP_array)):\n",
    "    NP = NP_array[j]\n",
    "    for k in range(len(phi_array)):\n",
    "        phi = phi_array[k]\n",
    "        for l in range(len(ar_array)):\n",
    "            ar = ar_array[l]\n",
    "            for m in range(run_dict[NP_array[j]]):\n",
    "                run = m+1;\n",
    "                Dir = TopDir + \"/NP_\" + str(NP) + \"/phi_0.\" + str(int(phi*100)) + \"/ar_\" + str(ar) + \"/Vr_0.5/run_\" + str(run) +\"/\"\n",
    "                if os.path.exists(Dir):\n",
    "                        workingFileName = Dir + file_names[13]\n",
    "                        with open(workingFileName,'r') as file:\n",
    "                                for line in file:\n",
    "                                    if not line.startswith(\"#\"):\n",
    "                                        dataf = np.loadtxt(file)\n",
    "                                        if dataf.shape[0] != tt[phi]*100:\n",
    "                                            print(f'\\nincomplete - {\"/phi_0.\" + str(int(phi*100)) + \"/ar_\" + str(ar) + \"/run_\" + str(run)}')"
   ]
  },
  {
   "cell_type": "code",
   "execution_count": 62,
   "metadata": {},
   "outputs": [],
   "source": [
    "# to check is simulations are complete\n",
    "\n",
    "import os\n",
    "\n",
    "TopDir=\"/media/rahul/Extreme SSD/high_bidispersity\"\n",
    "\n",
    "NP_array  = [1000]\n",
    "\n",
    "phi_array = [0.70,0.71,0.72,0.73,0.74,0.75]\n",
    "\n",
    "ar_array = [1.0,1.4,1.8,2.0,4.0]\n",
    "\n",
    "run_dict = {500:8, 1000:4, 2000:2, 4000:1}\n",
    "\n",
    "tt={0.70:50, 0.71:50, 0.72:50, 0.73:50, 0.74:35, 0.75:20}\n",
    "\n",
    "for j in range(len(NP_array)):\n",
    "    NP = NP_array[j]\n",
    "    for k in range(len(phi_array)):\n",
    "        phi = phi_array[k]\n",
    "        for l in range(len(ar_array)):\n",
    "            ar = ar_array[l]\n",
    "            for m in range(run_dict[NP_array[j]]):\n",
    "                run = m+1;\n",
    "                Dir = TopDir + \"/NP_\" + str(NP) + \"/phi_0.\" + str(int(phi*100)) + \"/ar_\" + str(ar) + \"/Vr_0.5/run_\" + str(run) +\"/\"\n",
    "                if os.path.exists(Dir):\n",
    "                        workingFileName = Dir + file_names[2]\n",
    "                        with open(workingFileName,'r') as file:\n",
    "                                tf = int(file.readlines()[-1].split()[1])\n",
    "                                if tf != tt[phi]:\n",
    "                                    print(f'incomplete simulation - {\"/phi_0.\" + str(int(phi*100)) + \"/ar_\" + str(ar) + \"/run_\" + str(run)}')\n",
    "                                    \n",
    "# all simulations for NP_1000 are complete"
   ]
  }
 ],
 "metadata": {
  "kernelspec": {
   "display_name": "Python 3 (ipykernel)",
   "language": "python",
   "name": "python3"
  },
  "language_info": {
   "codemirror_mode": {
    "name": "ipython",
    "version": 3
   },
   "file_extension": ".py",
   "mimetype": "text/x-python",
   "name": "python",
   "nbconvert_exporter": "python",
   "pygments_lexer": "ipython3",
   "version": "3.12.4"
  }
 },
 "nbformat": 4,
 "nbformat_minor": 4
}
